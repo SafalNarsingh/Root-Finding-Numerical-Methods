{
 "cells": [
  {
   "attachments": {
    "0ceb5138-ba18-40b7-aa73-6663947fa1e8.png": {
     "image/png": "[encoded data removed]"
    }
   },
   "cell_type": "markdown",
   "id": "cf9f015b-bb26-49b8-a368-4ac5d1f3c788",
   "metadata": {},
   "source": [
    "![image.png](attachment:0ceb5138-ba18-40b7-aa73-6663947fa1e8.png)"
   ]
  },
  {
   "cell_type": "code",
   "execution_count": 26,
   "id": "96b3415b-23b8-4d76-a80f-d6cd03297fc1",
   "metadata": {},
   "outputs": [],
   "source": [
    "# False Position (Regula-Falsi) Method in Python\n",
    "# import sympy as sp # symbolic math for expressing the symbolic expressions\n",
    "import numpy as np"
   ]
  },
  {
   "cell_type": "code",
   "execution_count": 27,
   "id": "8d42017f-ed39-47e9-9f95-7600a5fc2953",
   "metadata": {},
   "outputs": [],
   "source": [
    "def f(x):\n",
    "    \"\"\"\n",
    "    Define the function here.\n",
    "    For example: f(x) = x^3 - x - 2\n",
    "    change this as needed.\n",
    "    \"\"\"\n",
    "    return x**3 - x - 2\n",
    "\n",
    "    # return np.cos(x) - x # testing for another function\n"
   ]
  },
  {
   "cell_type": "code",
   "execution_count": 28,
   "id": "4a243707-51fb-4e84-b957-14213b7a7cf3",
   "metadata": {},
   "outputs": [],
   "source": [
    "def false_position(f, a, b, tol=1e-5, max_iter=100):\n",
    "    \"\"\"\n",
    "    Solves f(x) = 0 using the False Position (Regula-Falsi) method.\n",
    "\n",
    "    Parameters:\n",
    "    - f: function\n",
    "    - a, b: initial guesses (must satisfy f(a)*f(b) < 0)\n",
    "    - tol: error tolerance\n",
    "    - max_iter: maximum number of iterations\n",
    "\n",
    "    Returns:\n",
    "    - root approximation\n",
    "    - list of all iterations (for analysis)\n",
    "    \"\"\"\n",
    "    if f(a) * f(b) >= 0:\n",
    "        raise ValueError(\"f(a) and f(b) must have opposite signs.\")\n",
    "\n",
    "    iteration_data = []\n",
    "\n",
    "    for i in range(max_iter):\n",
    "        # Apply False Position formula\n",
    "        c = (a * f(b) - b * f(a)) / (f(b) - f(a))\n",
    "        fc = f(c)\n",
    "\n",
    "        # Store iteration info\n",
    "        iteration_data.append({\n",
    "            'iteration': i+1,\n",
    "            'a': a,\n",
    "            'b': b,\n",
    "            'c': c,\n",
    "            'f(c)': fc,\n",
    "            'error': abs(fc)\n",
    "        })\n",
    "\n",
    "        if abs(fc) < tol:\n",
    "            break\n",
    "\n",
    "        # Update interval\n",
    "        if f(a) * fc < 0:\n",
    "            b = c\n",
    "        else:\n",
    "            a = c\n",
    "\n",
    "    return c, iteration_data"
   ]
  },
  {
   "cell_type": "code",
   "execution_count": 29,
   "id": "96c5817e-70f0-43ea-890a-0fc8d7085a20",
   "metadata": {},
   "outputs": [],
   "source": [
    "# eg:\n",
    "# Define initial interval\n",
    "a = 1\n",
    "b = 2\n",
    "\n",
    "# a = 0 #for np.cos(x) - x\n",
    "# b = 1\n",
    "\n",
    "tolerance = 1e-5"
   ]
  },
  {
   "cell_type": "code",
   "execution_count": 30,
   "id": "4685d042-54b6-4f54-b64c-aa3199eaf26f",
   "metadata": {},
   "outputs": [],
   "source": [
    "# Call method\n",
    "root, data = false_position(f, a, b, tol=tolerance)"
   ]
  },
  {
   "cell_type": "code",
   "execution_count": 31,
   "id": "828a1877-9754-4279-ae7d-b5023ce6a5d0",
   "metadata": {
    "scrolled": true
   },
   "outputs": [
    {
     "name": "stdout",
     "output_type": "stream",
     "text": [
      "Root found: 1.521379\n",
      "\n",
      "Iteration Table:\n",
      "Iter  1: a = 1.00000, b = 2.00000, c = 1.333333, f(c) = -9.63e-01, error = 9.63e-01\n",
      "Iter  2: a = 1.33333, b = 2.00000, c = 1.462687, f(c) = -3.33e-01, error = 3.33e-01\n",
      "Iter  3: a = 1.46269, b = 2.00000, c = 1.504019, f(c) = -1.02e-01, error = 1.02e-01\n",
      "Iter  4: a = 1.50402, b = 2.00000, c = 1.516331, f(c) = -2.99e-02, error = 2.99e-02\n",
      "Iter  5: a = 1.51633, b = 2.00000, c = 1.519919, f(c) = -8.68e-03, error = 8.68e-03\n",
      "Iter  6: a = 1.51992, b = 2.00000, c = 1.520957, f(c) = -2.51e-03, error = 2.51e-03\n",
      "Iter  7: a = 1.52096, b = 2.00000, c = 1.521258, f(c) = -7.25e-04, error = 7.25e-04\n",
      "Iter  8: a = 1.52126, b = 2.00000, c = 1.521344, f(c) = -2.09e-04, error = 2.09e-04\n",
      "Iter  9: a = 1.52134, b = 2.00000, c = 1.521370, f(c) = -6.05e-05, error = 6.05e-05\n",
      "Iter 10: a = 1.52137, b = 2.00000, c = 1.521377, f(c) = -1.75e-05, error = 1.75e-05\n",
      "Iter 11: a = 1.52138, b = 2.00000, c = 1.521379, f(c) = -5.04e-06, error = 5.04e-06\n"
     ]
    }
   ],
   "source": [
    "print(f\"Root found: {root:.6f}\\n\")\n",
    "print(\"Iteration Table:\")\n",
    "for row in data:\n",
    "    print(f\"Iter {row['iteration']:>2}: a = {row['a']:.5f}, b = {row['b']:.5f}, \"\n",
    "          f\"c = {row['c']:.6f}, f(c) = {row['f(c)']:.2e}, error = {row['error']:.2e}\")"
   ]
  }
 ],
 "metadata": {
  "kernelspec": {
   "display_name": "Python 3 (ipykernel)",
   "language": "python",
   "name": "python3"
  },
  "language_info": {
   "codemirror_mode": {
    "name": "ipython",
    "version": 3
   },
   "file_extension": ".py",
   "mimetype": "text/x-python",
   "name": "python",
   "nbconvert_exporter": "python",
   "pygments_lexer": "ipython3",
   "version": "3.12.3"
  }
 },
 "nbformat": 4,
 "nbformat_minor": 5
}
