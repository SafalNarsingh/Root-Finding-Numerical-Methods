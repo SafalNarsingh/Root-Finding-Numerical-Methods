{
 "cells": [
  {
   "cell_type": "code",
   "execution_count": null,
   "id": "39e5ef63",
   "metadata": {},
   "outputs": [],
   "source": [
    "def f(x):\n",
    "    return x**3 - x - 2"
   ]
  },
  {
   "cell_type": "code",
   "execution_count": null,
   "id": "b0f54fd7",
   "metadata": {},
   "outputs": [],
   "source": [
    "\n",
    "def secant_method (x0, x1, tol=1e-5,max_itr=100 ):\n",
    "\n",
    "    for i in range (max_itr):\n",
    "        x= x1 - (f(x1)*(x1 - x0))/(f(x1) - f(x0))\n",
    "\n",
    "        if( abs(f(x)) < tol):\n",
    "            return x\n",
    "\n",
    "        x0=x1\n",
    "        x1=x\n",
    "\n",
    "    return x"
   ]
  },
  {
   "cell_type": "code",
   "execution_count": null,
   "id": "5e03ed02",
   "metadata": {},
   "outputs": [],
   "source": [
    "secant_root=secant_method(1,2)\n",
    "print(f\"Root is : {secant_root}\")\n"
   ]
  }
 ],
 "metadata": {
  "language_info": {
   "name": "python"
  }
 },
 "nbformat": 4,
 "nbformat_minor": 5
}
