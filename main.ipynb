{
 "cells": [
  {
   "cell_type": "markdown",
   "id": "23f3386f",
   "metadata": {},
   "source": [
    "# Root Finding"
   ]
  },
  {
   "cell_type": "markdown",
   "id": "82b516af",
   "metadata": {},
   "source": [
    "## Bisection\n",
    "\n",
    "\n",
    "----------------------------------"
   ]
  },
  {
   "cell_type": "code",
   "execution_count": 2,
   "id": "025a28d5",
   "metadata": {},
   "outputs": [],
   "source": [
    "def f_bisection(x):\n",
    "    return x**3 - 4*x - 9"
   ]
  },
  {
   "cell_type": "code",
   "execution_count": 5,
   "id": "e3f1bac9",
   "metadata": {},
   "outputs": [],
   "source": [
    "def bisection(a, b, tol,max_iter=100):\n",
    "    if f_bisection(a) * f_bisection(b) >= 0:\n",
    "        print(\"Bisection method fails.\")\n",
    "        return None\n",
    "\n",
    "    while (b-a)/2.0 > tol:\n",
    "        c = (a+b)/2.0 # midpoint\n",
    "        if f_bisection(c) == 0:\n",
    "            return c\n",
    "        elif f_bisection(c) * f_bisection(a) < 0:\n",
    "            b = c\n",
    "        else:\n",
    "            a = c   \n",
    "    return (a+b)/2.0\n"
   ]
  },
  {
   "cell_type": "code",
   "execution_count": 6,
   "id": "edd71a20",
   "metadata": {},
   "outputs": [
    {
     "name": "stdout",
     "output_type": "stream",
     "text": [
      "Bisection method result: 2.7109375\n"
     ]
    }
   ],
   "source": [
    "result_bisection = bisection(2, 3, 0.01)\n",
    "print(f\"Bisection method result: {result_bisection}\")"
   ]
  },
  {
   "cell_type": "markdown",
   "id": "0afe1b49",
   "metadata": {},
   "source": [
    "## Secant\n",
    "\n",
    "\n",
    "----------------------------------"
   ]
  },
  {
   "cell_type": "code",
   "execution_count": 10,
   "id": "d39d123f",
   "metadata": {},
   "outputs": [],
   "source": [
    "def f_secant(x):\n",
    "    return x**3 - 4*x - 9"
   ]
  },
  {
   "cell_type": "code",
   "execution_count": 13,
   "id": "99ef8070",
   "metadata": {},
   "outputs": [],
   "source": [
    "def secant(a,b,tol,max_iter=100):\n",
    "    if f_secant(a) * f_secant(b) >= 0:\n",
    "        print(\"Secant method fails. \")\n",
    "        return None\n",
    "    while abs(b-a) > tol:\n",
    "        c = (a * f_secant(b) - b * f_secant(a)) / (f_secant(b) - f_secant(a))\n",
    "        if f_secant(c) == 0:\n",
    "            return c\n",
    "        a, b = b, c\n",
    "    return c    "
   ]
  },
  {
   "cell_type": "code",
   "execution_count": 15,
   "id": "048112c7",
   "metadata": {},
   "outputs": [
    {
     "name": "stdout",
     "output_type": "stream",
     "text": [
      "Secant method result: 2.706523950534075\n"
     ]
    }
   ],
   "source": [
    "result_secant = secant(2, 3, 0.01)\n",
    "print(f\"Secant method result: {result_secant}\")"
   ]
  },
  {
   "cell_type": "markdown",
   "id": "b05e8a89",
   "metadata": {},
   "source": [
    "## False Position Method\n",
    "\n",
    "\n",
    "----------------------------------"
   ]
  },
  {
   "cell_type": "code",
   "execution_count": 16,
   "id": "79366ab7",
   "metadata": {},
   "outputs": [],
   "source": [
    "def f_false_position(x):\n",
    "    return x**3 - 4*x - 9"
   ]
  },
  {
   "cell_type": "code",
   "execution_count": null,
   "id": "f3494902",
   "metadata": {},
   "outputs": [],
   "source": [
    "def false_position(a,b,tol,max_iter=100):\n",
    "    if f_false_position(a) * f_false_position(b) >= 0:\n",
    "        print(\"False position method fails. \")\n",
    "        return None\n",
    "    while abs(b-a) > tol:\n",
    "        c = (a * f_false_position(b) - b * f_false_position(a)) / (f_false_position(b) - f_false_position(a))\n",
    "        if f_false_position(a) * f_false_position(c) < 0:\n",
    "            b = c\n",
    "        else:\n",
    "            a = c\n",
    "        if f_false_position(c) == 0:\n",
    "            return c\n",
    "    return c"
   ]
  },
  {
   "cell_type": "code",
   "execution_count": null,
   "id": "e2176f7a",
   "metadata": {},
   "outputs": [
    {
     "ename": "TypeError",
     "evalue": "f_false_position() takes 1 positional argument but 3 were given",
     "output_type": "error",
     "traceback": [
      "\u001b[31m---------------------------------------------------------------------------\u001b[39m",
      "\u001b[31mTypeError\u001b[39m                                 Traceback (most recent call last)",
      "\u001b[36mCell\u001b[39m\u001b[36m \u001b[39m\u001b[32mIn[18]\u001b[39m\u001b[32m, line 1\u001b[39m\n\u001b[32m----> \u001b[39m\u001b[32m1\u001b[39m result_false_position = \u001b[43mf_false_position\u001b[49m\u001b[43m(\u001b[49m\u001b[32;43m2\u001b[39;49m\u001b[43m,\u001b[49m\u001b[43m \u001b[49m\u001b[32;43m3\u001b[39;49m\u001b[43m,\u001b[49m\u001b[43m \u001b[49m\u001b[32;43m0.01\u001b[39;49m\u001b[43m)\u001b[49m\n\u001b[32m      2\u001b[39m \u001b[38;5;28mprint\u001b[39m(\u001b[33mf\u001b[39m\u001b[33m\"\u001b[39m\u001b[33mFalse position method result: \u001b[39m\u001b[38;5;132;01m{\u001b[39;00mresult_false_position\u001b[38;5;132;01m}\u001b[39;00m\u001b[33m\"\u001b[39m)\n",
      "\u001b[31mTypeError\u001b[39m: f_false_position() takes 1 positional argument but 3 were given"
     ]
    }
   ],
   "source": [
    "result_false_position = false_position(2, 3, 0.01)\n",
    "print(f\"False position method result: {result_false_position}\")"
   ]
  }
 ],
 "metadata": {
  "kernelspec": {
   "display_name": "Python 3",
   "language": "python",
   "name": "python3"
  },
  "language_info": {
   "codemirror_mode": {
    "name": "ipython",
    "version": 3
   },
   "file_extension": ".py",
   "mimetype": "text/x-python",
   "name": "python",
   "nbconvert_exporter": "python",
   "pygments_lexer": "ipython3",
   "version": "3.13.2"
  }
 },
 "nbformat": 4,
 "nbformat_minor": 5
}
