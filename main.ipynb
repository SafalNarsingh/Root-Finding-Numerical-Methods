{
 "cells": [
  {
   "cell_type": "markdown",
   "id": "23f3386f",
   "metadata": {},
   "source": [
    "# Root Finding"
   ]
  },
  {
   "cell_type": "markdown",
   "id": "82b516af",
   "metadata": {},
   "source": [
    "## Bisection\n",
    "\n",
    "\n",
    "----------------------------------"
   ]
  },
  {
   "cell_type": "code",
   "execution_count": 19,
   "id": "025a28d5",
   "metadata": {},
   "outputs": [],
   "source": [
    "def f_bisection(x):\n",
    "    return x**3 - 4*x - 9"
   ]
  },
  {
   "cell_type": "code",
   "execution_count": 20,
   "id": "e3f1bac9",
   "metadata": {},
   "outputs": [],
   "source": [
    "def bisection(a, b, tol,max_iter=100):\n",
    "    if f_bisection(a) * f_bisection(b) >= 0:\n",
    "        print(\"Bisection method fails.\")\n",
    "        return None\n",
    "\n",
    "    while (b-a)/2.0 > tol:\n",
    "        c = (a+b)/2.0 # midpoint\n",
    "        if f_bisection(c) == 0:\n",
    "            return c\n",
    "        elif f_bisection(c) * f_bisection(a) < 0:\n",
    "            b = c\n",
    "        else:\n",
    "            a = c   \n",
    "    return (a+b)/2.0\n"
   ]
  },
  {
   "cell_type": "code",
   "execution_count": 21,
   "id": "edd71a20",
   "metadata": {},
   "outputs": [
    {
     "name": "stdout",
     "output_type": "stream",
     "text": [
      "Bisection method result: 2.7109375\n"
     ]
    }
   ],
   "source": [
    "result_bisection = bisection(2, 3, 0.01)\n",
    "print(f\"Bisection method result: {result_bisection}\")"
   ]
  },
  {
   "cell_type": "markdown",
   "id": "0afe1b49",
   "metadata": {},
   "source": [
    "## Secant\n",
    "\n",
    "\n",
    "----------------------------------"
   ]
  },
  {
   "cell_type": "code",
   "execution_count": 22,
   "id": "d39d123f",
   "metadata": {},
   "outputs": [],
   "source": [
    "def f_secant(x):\n",
    "    return x**3 - 4*x - 9"
   ]
  },
  {
   "cell_type": "code",
   "execution_count": 23,
   "id": "99ef8070",
   "metadata": {},
   "outputs": [],
   "source": [
    "def secant(a,b,tol,max_iter=100):\n",
    "    if f_secant(a) * f_secant(b) >= 0:\n",
    "        print(\"Secant method fails. \")\n",
    "        return None\n",
    "    while abs(b-a) > tol:\n",
    "        c = (a * f_secant(b) - b * f_secant(a)) / (f_secant(b) - f_secant(a))\n",
    "        if f_secant(c) == 0:\n",
    "            return c\n",
    "        a, b = b, c\n",
    "    return c    "
   ]
  },
  {
   "cell_type": "code",
   "execution_count": 24,
   "id": "048112c7",
   "metadata": {},
   "outputs": [
    {
     "name": "stdout",
     "output_type": "stream",
     "text": [
      "Secant method result: 2.706523950534075\n"
     ]
    }
   ],
   "source": [
    "result_secant = secant(2, 3, 0.01)\n",
    "print(f\"Secant method result: {result_secant}\")"
   ]
  },
  {
   "cell_type": "markdown",
   "id": "b05e8a89",
   "metadata": {},
   "source": [
    "## False Position Method\n",
    "\n",
    "\n",
    "----------------------------------"
   ]
  },
  {
   "cell_type": "code",
   "execution_count": 25,
   "id": "79366ab7",
   "metadata": {},
   "outputs": [],
   "source": [
    "def f_false_position(x):\n",
    "    return x**3 - 4*x - 9"
   ]
  },
  {
   "cell_type": "code",
   "execution_count": 26,
   "id": "f3494902",
   "metadata": {},
   "outputs": [],
   "source": [
    "def false_position(a,b,tol,max_iter=100):\n",
    "    if f_false_position(a) * f_false_position(b) >= 0:\n",
    "        print(\"False position method fails. \")\n",
    "        return None\n",
    "    while abs(b-a) > tol:\n",
    "        c = (a * f_false_position(b) - b * f_false_position(a)) / (f_false_position(b) - f_false_position(a))\n",
    "        if f_false_position(a) * f_false_position(c) < 0:\n",
    "            b = c\n",
    "        else:\n",
    "            a = c\n",
    "        if f_false_position(c) == 0:\n",
    "            return c\n",
    "    return c"
   ]
  },
  {
   "cell_type": "code",
   "execution_count": 27,
   "id": "e2176f7a",
   "metadata": {},
   "outputs": [
    {
     "name": "stdout",
     "output_type": "stream",
     "text": [
      "False position method result: 2.7065279544979353\n"
     ]
    }
   ],
   "source": [
    "result_false_position = false_position(2, 3, 0.01)\n",
    "print(f\"False position method result: {result_false_position}\")"
   ]
  },
  {
   "cell_type": "markdown",
   "id": "d8bb4c44",
   "metadata": {},
   "source": [
    "## Newton Raphson for System of linear equations\n",
    "\n",
    "\n",
    "----------------------------------"
   ]
  },
  {
   "cell_type": "markdown",
   "id": "d3b07f1f",
   "metadata": {},
   "source": [
    "![Newton raphson header](./newton-raphson-header.png)"
   ]
  },
  {
   "cell_type": "code",
   "execution_count": 58,
   "id": "e04f46c2",
   "metadata": {},
   "outputs": [],
   "source": [
    "import sympy as sp\n",
    "\n",
    "x, y = sp.symbols('x y')"
   ]
  },
  {
   "cell_type": "code",
   "execution_count": 57,
   "id": "ef4b47e6",
   "metadata": {},
   "outputs": [],
   "source": [
    "f = 3*y*x**2 - 10*x + 7\n",
    "\n",
    "def f_newton_raphson(x, y):\n",
    "    return 3*y*x**2 - 10*x + 7"
   ]
  },
  {
   "cell_type": "code",
   "execution_count": 47,
   "id": "2589ca6a",
   "metadata": {},
   "outputs": [],
   "source": [
    "g = y**2 - 5*y + 4\n",
    "\n",
    "def g_newton_raphson(x, y):\n",
    "    return y**2 - 5*y + 4"
   ]
  },
  {
   "cell_type": "code",
   "execution_count": null,
   "id": "035b3ef5",
   "metadata": {},
   "outputs": [],
   "source": [
    "def calculate_partial_derivatives():\n",
    "    df_dx = sp.diff(f, x)\n",
    "    df_dy = sp.diff(f, y)\n",
    "\n",
    "    dg_dx = sp.diff(g, x)\n",
    "    dg_dy = sp.diff(g, y)\n",
    "\n",
    "    f_dx_func = sp.lambdify((x, y), df_dx)\n",
    "    f_dy_func = sp.lambdify((x, y), df_dy)\n",
    "    g_dx_func = sp.lambdify((x, y), dg_dx)\n",
    "    g_dy_func = sp.lambdify((x, y), dg_dy)\n",
    "\n",
    "    return f_dx_func, f_dy_func, g_dx_func, g_dy_func"
   ]
  },
  {
   "cell_type": "code",
   "execution_count": 71,
   "id": "73e4062c",
   "metadata": {},
   "outputs": [
    {
     "name": "stdout",
     "output_type": "stream",
     "text": [
      "0.9999999999999999\n",
      "1.0\n"
     ]
    }
   ],
   "source": [
    "def newton_raphson_system(tol, initial_x, initial_y):\n",
    "    df_dx, df_dy, dg_dx, dg_dy = calculate_partial_derivatives()\n",
    "    \n",
    "    while True:\n",
    "        D = df_dx(initial_x, initial_y) * dg_dy(initial_x, initial_y) - df_dy(initial_x, initial_y) * dg_dx(initial_x, initial_y)\n",
    "        D1 = -f_newton_raphson(initial_x, initial_y) * dg_dy(initial_x, initial_y) + g_newton_raphson(initial_x, initial_y) * df_dy(initial_x, initial_y)\n",
    "        D2 = -df_dx(initial_x, initial_y) * g_newton_raphson(initial_x, initial_y) + dg_dx(initial_x, initial_y) * f_newton_raphson(initial_x, initial_y)\n",
    "\n",
    "        h = D1 / D\n",
    "        k = D2 / D\n",
    "        \n",
    "        xn = initial_x + h\n",
    "        yn = initial_y + k\n",
    "\n",
    "        if abs(h) < tol and abs(k) < tol:\n",
    "            break\n",
    "\n",
    "        initial_x = xn\n",
    "        initial_y = yn\n",
    "\n",
    "    print(xn)\n",
    "    print(yn)\n",
    "\n",
    "newton_raphson_system(0.000005, 0, 0)"
   ]
  },
  {
   "cell_type": "code",
   "execution_count": null,
   "id": "2097c6e0",
   "metadata": {},
   "outputs": [],
   "source": []
  }
 ],
 "metadata": {
  "kernelspec": {
   "display_name": "Python 3",
   "language": "python",
   "name": "python3"
  },
  "language_info": {
   "codemirror_mode": {
    "name": "ipython",
    "version": 3
   },
   "file_extension": ".py",
   "mimetype": "text/x-python",
   "name": "python",
   "nbconvert_exporter": "python",
   "pygments_lexer": "ipython3",
   "version": "3.12.3"
  }
 },
 "nbformat": 4,
 "nbformat_minor": 5
}
