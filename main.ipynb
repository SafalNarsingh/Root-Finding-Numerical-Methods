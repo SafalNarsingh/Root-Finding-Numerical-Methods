{
 "cells": [
  {
   "cell_type": "markdown",
   "id": "23f3386f",
   "metadata": {},
   "source": [
    "# Root Finding"
   ]
  },
  {
   "cell_type": "markdown",
   "id": "82b516af",
   "metadata": {},
   "source": [
    "## Bisection\n",
    "\n",
    "\n",
    "----------------------------------"
   ]
  },
  {
   "cell_type": "code",
   "execution_count": 2,
   "id": "025a28d5",
   "metadata": {},
   "outputs": [],
   "source": [
    "def f_bisection(x):\n",
    "    return x**3 - 4*x - 9"
   ]
  },
  {
   "cell_type": "code",
   "execution_count": 5,
   "id": "e3f1bac9",
   "metadata": {},
   "outputs": [],
   "source": [
    "def bisection(a, b, tol,max_iter=100):\n",
    "    if f_bisection(a) * f_bisection(b) >= 0:\n",
    "        print(\"Bisection method fails.\")\n",
    "        return None\n",
    "\n",
    "    while (b-a)/2.0 > tol:\n",
    "        c = (a+b)/2.0 # midpoint\n",
    "        if f_bisection(c) == 0:\n",
    "            return c\n",
    "        elif f_bisection(c) * f_bisection(a) < 0:\n",
    "            b = c\n",
    "        else:\n",
    "            a = c   \n",
    "    return (a+b)/2.0\n"
   ]
  },
  {
   "cell_type": "code",
   "execution_count": 6,
   "id": "edd71a20",
   "metadata": {},
   "outputs": [
    {
     "name": "stdout",
     "output_type": "stream",
     "text": [
      "Bisection method result: 2.7109375\n"
     ]
    }
   ],
   "source": [
    "result_bisection = bisection(2, 3, 0.01)\n",
    "print(f\"Bisection method result: {result_bisection}\")"
   ]
  },
  {
   "cell_type": "markdown",
   "id": "0afe1b49",
   "metadata": {},
   "source": [
    "## Secant\n",
    "\n",
    "\n",
    "----------------------------------"
   ]
  },
  {
   "cell_type": "code",
   "execution_count": 10,
   "id": "d39d123f",
   "metadata": {},
   "outputs": [],
   "source": [
    "def f_secant(x):\n",
    "    return x**3 - 4*x - 9"
   ]
  },
  {
   "cell_type": "code",
   "execution_count": 13,
   "id": "99ef8070",
   "metadata": {},
   "outputs": [],
   "source": [
    "def secant(a,b,tol,max_iter=100):\n",
    "    if f_secant(a) * f_secant(b) >= 0:\n",
    "        print(\"Secant method fails. \")\n",
    "        return None\n",
    "    while abs(b-a) > tol:\n",
    "        c = (a * f_secant(b) - b * f_secant(a)) / (f_secant(b) - f_secant(a))\n",
    "        if f_secant(c) == 0:\n",
    "            return c\n",
    "        a, b = b, c\n",
    "    return c    "
   ]
  },
  {
   "cell_type": "code",
   "execution_count": 15,
   "id": "048112c7",
   "metadata": {},
   "outputs": [
    {
     "name": "stdout",
     "output_type": "stream",
     "text": [
      "Secant method result: 2.706523950534075\n"
     ]
    }
   ],
   "source": [
    "result_secant = secant(2, 3, 0.01)\n",
    "print(f\"Secant method result: {result_secant}\")"
   ]
  },
  {
   "cell_type": "markdown",
   "id": "b05e8a89",
   "metadata": {},
   "source": [
    "## False Position Method\n",
    "\n",
    "\n",
    "----------------------------------"
   ]
  },
  {
   "cell_type": "code",
   "execution_count": 16,
   "id": "79366ab7",
   "metadata": {},
   "outputs": [],
   "source": [
    "def f_false_position(x):\n",
    "    return x**3 - 4*x - 9"
   ]
  },
  {
   "cell_type": "code",
   "execution_count": 20,
   "id": "f3494902",
   "metadata": {},
   "outputs": [],
   "source": [
    "def false_position(a,b,tol,max_iter=100):\n",
    "    if f_false_position(a) * f_false_position(b) >= 0:\n",
    "        print(\"False position method fails. \")\n",
    "        return None\n",
    "    while abs(b-a) > tol:\n",
    "        c = (a * f_false_position(b) - b * f_false_position(a)) / (f_false_position(b) - f_false_position(a))\n",
    "        if f_false_position(a) * f_false_position(c) < 0:\n",
    "            b = c\n",
    "        else:\n",
    "            a = c\n",
    "        if f_false_position(c) == 0:\n",
    "            return c\n",
    "    return c"
   ]
  },
  {
   "cell_type": "code",
   "execution_count": 21,
   "id": "e2176f7a",
   "metadata": {},
   "outputs": [
    {
     "name": "stdout",
     "output_type": "stream",
     "text": [
      "False position method result: 2.7065279544979353\n"
     ]
    }
   ],
   "source": [
    "result_false_position = false_position(2, 3, 0.01)\n",
    "print(f\"False position method result: {result_false_position}\")"
   ]
  },
  {
   "cell_type": "markdown",
   "id": "6363bb4b",
   "metadata": {},
   "source": [
    "## Fixed Point Iteration\n",
    "\n",
    "----"
   ]
  },
  {
   "cell_type": "code",
   "execution_count": 1,
   "id": "4d9a4d6d",
   "metadata": {},
   "outputs": [],
   "source": [
    "def f_fixed_point(x):\n",
    "    return x**3 - 4*x - 9"
   ]
  },
  {
   "cell_type": "code",
   "execution_count": 2,
   "id": "55e521b0",
   "metadata": {},
   "outputs": [],
   "source": [
    "def fixed_point_iteration(x0, tol, max_iter=100):\n",
    "    for i in range(max_iter):\n",
    "        x = f_fixed_point(x0)  # assuming fixed point function is defined\n",
    "        if abs(x - x0) < tol:\n",
    "            return x\n",
    "        x0 = x\n",
    "    print(\"Fixed point iteration did not converge.\")\n",
    "    return None"
   ]
  },
  {
   "cell_type": "code",
   "execution_count": null,
   "id": "abc4f9cb",
   "metadata": {},
   "outputs": [],
   "source": [
    "result_fixed_point = fixed_point_iteration(2, 0.01)\n",
    "print(f\"Fixed Point Iteration method result: {result_fixed_point}\")"
   ]
  },
  {
   "cell_type": "markdown",
   "id": "47fc293a",
   "metadata": {},
   "source": [
    "## Netwon Raphson Method\n",
    "\n",
    "\n",
    "----------------------------------"
   ]
  },
  {
   "cell_type": "code",
   "execution_count": 22,
   "id": "a6c12764",
   "metadata": {},
   "outputs": [],
   "source": [
    "def f_newton(x):\n",
    "    return x**3 - 4*x - 9"
   ]
  },
  {
   "cell_type": "code",
   "execution_count": 23,
   "id": "f1a301a4",
   "metadata": {},
   "outputs": [],
   "source": [
    "def newton_raphson(x0, tol, max_iter=100):\n",
    "    for i in range(max_iter):\n",
    "        df_newton = 3*x0**2 - 4  # derivative of f_newton\n",
    "        if df_newton == 0:\n",
    "            print(\"Derivative is zero. No solution found.\")\n",
    "            return None\n",
    "        x = x0 - f_newton(x0) / df_newton\n",
    "        if abs(f_newton(x)) < tol:\n",
    "            return x\n",
    "        x0 = x"
   ]
  },
  {
   "cell_type": "code",
   "execution_count": 24,
   "id": "6ecc3170",
   "metadata": {},
   "outputs": [
    {
     "name": "stdout",
     "output_type": "stream",
     "text": [
      "Newton-Raphson method result: 2.706529210463507\n"
     ]
    }
   ],
   "source": [
    "result_newton = newton_raphson(2, 0.01)\n",
    "print(f\"Newton-Raphson method result: {result_newton}\")"
   ]
  },
  {
   "cell_type": "markdown",
   "id": "b6437fb3",
   "metadata": {},
   "source": [
    "## Fixed Point Iteration Non Linear\n",
    "\n",
    "----------------------------------------"
   ]
  },
  {
   "cell_type": "code",
   "execution_count": 26,
   "id": "44a1b8ac",
   "metadata": {},
   "outputs": [],
   "source": [
    "def g(x,y):\n",
    "    return (3*y*x**2 + 7)/10\n",
    "\n",
    "def h(x,y):\n",
    "    return (y**2 +4)/5"
   ]
  },
  {
   "cell_type": "code",
   "execution_count": 27,
   "id": "bb637572",
   "metadata": {},
   "outputs": [],
   "source": [
    "def iteration_method_non_linear(a,b,max_itr=100,tol=1e-4):\n",
    "\n",
    "\n",
    "    for i in range(max_itr):\n",
    "        x=g(a,b)\n",
    "        y=h(a,b)\n",
    "\n",
    "        if (abs(g(a,b)) < tol) and (abs(h(a,b)) < tol ):\n",
    "            return x,y\n",
    "\n",
    "        a=x\n",
    "        b=y\n",
    "\n",
    "    return x,y\n",
    "\n",
    "\n",
    "    "
   ]
  },
  {
   "cell_type": "code",
   "execution_count": 28,
   "id": "f3282c52",
   "metadata": {},
   "outputs": [
    {
     "name": "stdout",
     "output_type": "stream",
     "text": [
      "the value of x is 0.9999999999999998 , the value of y is 1.0\n"
     ]
    }
   ],
   "source": [
    "x,y=iteration_method_non_linear(0,0)\n",
    "print(f\"the value of x is {x} , the value of y is {y}\")"
   ]
  },
  {
   "cell_type": "markdown",
   "id": "e2efbd58",
   "metadata": {},
   "source": [
    "## Newton Raphson Non Linear\n",
    "\n",
    "----------------------------------------"
   ]
  },
  {
   "cell_type": "code",
   "execution_count": null,
   "id": "aa9c55fb",
   "metadata": {},
   "outputs": [],
   "source": []
  }
 ],
 "metadata": {
  "kernelspec": {
   "display_name": "Python 3",
   "language": "python",
   "name": "python3"
  },
  "language_info": {
   "codemirror_mode": {
    "name": "ipython",
    "version": 3
   },
   "file_extension": ".py",
   "mimetype": "text/x-python",
   "name": "python",
   "nbconvert_exporter": "python",
   "pygments_lexer": "ipython3",
   "version": "3.13.2"
  }
 },
 "nbformat": 4,
 "nbformat_minor": 5
}
